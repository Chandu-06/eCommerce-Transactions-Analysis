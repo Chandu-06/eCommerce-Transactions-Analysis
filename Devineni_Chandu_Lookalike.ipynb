{
  "nbformat": 4,
  "nbformat_minor": 0,
  "metadata": {
    "colab": {
      "provenance": []
    },
    "kernelspec": {
      "name": "python3",
      "display_name": "Python 3"
    },
    "language_info": {
      "name": "python"
    }
  },
  "cells": [
    {
      "cell_type": "markdown",
      "source": [
        "Task 2: Lookalike Model\n",
        "\n",
        "Create a Similarity Model: The goal is to calculate the similarity between customers based on their transaction history and product\n",
        "\n",
        "preferences. We use cosine similarity to compare customers.\n",
        "\n",
        "Save the Results: After computing the top 3 similar customers for each of the first 20 customers, we store the results in a CSV file (Lookalike.csv)."
      ],
      "metadata": {
        "id": "33aG8FDKj17Z"
      }
    },
    {
      "cell_type": "code",
      "source": [
        "import pandas as pd\n",
        "\n",
        "customers = pd.read_csv('/content/Customers.csv')\n",
        "products = pd.read_csv('/content/Products.csv')\n",
        "transactions = pd.read_csv('/content/Transactions.csv')"
      ],
      "metadata": {
        "id": "JhJDQTeQdAsS"
      },
      "execution_count": 1,
      "outputs": []
    },
    {
      "cell_type": "code",
      "execution_count": 2,
      "metadata": {
        "colab": {
          "base_uri": "https://localhost:8080/"
        },
        "id": "Ji8_1qMOcxwm",
        "outputId": "4264d8fd-1cb2-4553-c53d-611d62179e71"
      },
      "outputs": [
        {
          "output_type": "stream",
          "name": "stdout",
          "text": [
            "['C0097', 'C0194', 'C0199'] [0.5477225575051661, 0.469668218313862, 0.4381780460041329]\n"
          ]
        }
      ],
      "source": [
        "from sklearn.metrics.pairwise import cosine_similarity\n",
        "import numpy as np\n",
        "\n",
        "# Merge customer and transaction data\n",
        "customer_transactions = pd.merge(transactions, customers, on='CustomerID')\n",
        "\n",
        "# Create a matrix of product preferences per customer (using pivot table)\n",
        "customer_profile = customer_transactions.pivot_table(index='CustomerID', columns='ProductID', values='Quantity', aggfunc='sum', fill_value=0)\n",
        "\n",
        "# Calculate cosine similarity between customers\n",
        "similarity_matrix = cosine_similarity(customer_profile)\n",
        "\n",
        "# Create a DataFrame to store similarity scores\n",
        "similarity_df = pd.DataFrame(similarity_matrix, index=customer_profile.index, columns=customer_profile.index)\n",
        "\n",
        "# Function to get top 3 similar customers for each customer\n",
        "def get_similar_customers(customer_id, top_n=3):\n",
        "    similar_customers = similarity_df[customer_id].sort_values(ascending=False)[1:top_n+1]\n",
        "    return similar_customers.index.tolist(), similar_customers.values.tolist()\n",
        "\n",
        "similar_customers, scores = get_similar_customers('C0001')\n",
        "print(similar_customers, scores)\n"
      ]
    },
    {
      "cell_type": "code",
      "source": [
        "lookalike_data = []\n",
        "for customer_id in customer_profile.index[:20]:  # For first 20 customers\n",
        "    similar_customers, scores = get_similar_customers(customer_id)\n",
        "    for cust, score in zip(similar_customers, scores):\n",
        "        lookalike_data.append({'CustomerID': customer_id, 'LookalikeID': cust, 'Score': score})\n",
        "\n",
        "lookalike_df = pd.DataFrame(lookalike_data)\n",
        "lookalike_df.to_csv('Lookalike.csv', index=False)"
      ],
      "metadata": {
        "id": "kmpiBUtNc24j"
      },
      "execution_count": 3,
      "outputs": []
    }
  ]
}